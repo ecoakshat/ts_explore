{
 "cells": [
  {
   "cell_type": "code",
   "execution_count": 2,
   "metadata": {},
   "outputs": [
    {
     "name": "stdout",
     "output_type": "stream",
     "text": [
      "                id  channel_1  channel_10  channel_11  channel_12  channel_13  \\\n",
      "0                0    0.13791         0.0         0.0    0.317175    0.371764   \n",
      "1                1    0.13791         0.0         0.0    0.317175    0.371764   \n",
      "2                2    0.13791         0.0         0.0    0.317175    0.371764   \n",
      "3                3    0.13791         0.0         0.0    0.317175    0.371764   \n",
      "4                4    0.13791         0.0         0.0    0.317175    0.371764   \n",
      "...            ...        ...         ...         ...         ...         ...   \n",
      "14728316  14728316    0.13791         0.0         0.0    0.218915    0.270384   \n",
      "14728317  14728317    0.13791         0.0         0.0    0.218915    0.268824   \n",
      "14728318  14728318    0.13791         0.0         0.0    0.218915    0.268824   \n",
      "14728319  14728319    0.13791         0.0         0.0    0.218915    0.268824   \n",
      "14728320  14728320    0.13791         0.0         0.0    0.215795    0.270384   \n",
      "\n",
      "          channel_14  channel_15  channel_16  channel_17  ...  \\\n",
      "0           0.297205    0.130113    0.766769    0.349474  ...   \n",
      "1           0.297205    0.130113    0.766769    0.349474  ...   \n",
      "2           0.297205    0.130113    0.766769    0.349474  ...   \n",
      "3           0.297205    0.130113    0.766769    0.349474  ...   \n",
      "4           0.297205    0.130113    0.766769    0.349474  ...   \n",
      "...              ...         ...         ...         ...  ...   \n",
      "14728316    0.631070    0.313122    0.786995    0.266552  ...   \n",
      "14728317    0.631070    0.314563    0.785157    0.266552  ...   \n",
      "14728318    0.631070    0.314563    0.785157    0.266552  ...   \n",
      "14728319    0.631070    0.314563    0.785157    0.266552  ...   \n",
      "14728320    0.631070    0.314563    0.786995    0.266552  ...   \n",
      "\n",
      "          telecommand_351  telecommand_352  telecommand_353  telecommand_354  \\\n",
      "0                     0.0              0.0              0.0              0.0   \n",
      "1                     0.0              0.0              0.0              0.0   \n",
      "2                     0.0              0.0              0.0              0.0   \n",
      "3                     0.0              0.0              0.0              0.0   \n",
      "4                     0.0              0.0              0.0              0.0   \n",
      "...                   ...              ...              ...              ...   \n",
      "14728316              0.0              0.0              0.0              0.0   \n",
      "14728317              0.0              0.0              0.0              0.0   \n",
      "14728318              0.0              0.0              0.0              0.0   \n",
      "14728319              0.0              0.0              0.0              0.0   \n",
      "14728320              0.0              0.0              0.0              0.0   \n",
      "\n",
      "          telecommand_36  telecommand_376  telecommand_38  telecommand_39  \\\n",
      "0                    0.0              0.0             0.0             0.0   \n",
      "1                    0.0              0.0             0.0             0.0   \n",
      "2                    0.0              0.0             0.0             0.0   \n",
      "3                    0.0              0.0             0.0             0.0   \n",
      "4                    0.0              0.0             0.0             0.0   \n",
      "...                  ...              ...             ...             ...   \n",
      "14728316             0.0              0.0             0.0             0.0   \n",
      "14728317             0.0              0.0             0.0             0.0   \n",
      "14728318             0.0              0.0             0.0             0.0   \n",
      "14728319             0.0              0.0             0.0             0.0   \n",
      "14728320             0.0              0.0             0.0             0.0   \n",
      "\n",
      "          telecommand_40  is_anomaly  \n",
      "0                    0.0           0  \n",
      "1                    0.0           0  \n",
      "2                    0.0           0  \n",
      "3                    0.0           0  \n",
      "4                    0.0           0  \n",
      "...                  ...         ...  \n",
      "14728316             0.0           0  \n",
      "14728317             0.0           0  \n",
      "14728318             0.0           0  \n",
      "14728319             0.0           0  \n",
      "14728320             0.0           0  \n",
      "\n",
      "[14728321 rows x 89 columns]\n"
     ]
    }
   ],
   "source": [
    "import pandas as pd\n",
    "\n",
    "# Replace 'file_path.parquet' with the actual path to your .parquet file\n",
    "file_path = r'C:\\Users\\Akshat Agarwal\\Desktop\\Data_Science\\Kaggle\\ESA_Try\\train.parquet'\n",
    "df = pd.read_parquet(file_path)\n",
    "\n",
    "print(df)"
   ]
  },
  {
   "cell_type": "code",
   "execution_count": 7,
   "metadata": {},
   "outputs": [
    {
     "name": "stdout",
     "output_type": "stream",
     "text": [
      "['id', 'channel_1', 'channel_10', 'channel_11', 'channel_12', 'channel_13', 'channel_14', 'channel_15', 'channel_16', 'channel_17', 'channel_18', 'channel_19', 'channel_2', 'channel_20', 'channel_21', 'channel_22', 'channel_23', 'channel_24', 'channel_25', 'channel_26', 'channel_27', 'channel_28', 'channel_29', 'channel_3', 'channel_30', 'channel_31', 'channel_32', 'channel_33', 'channel_34', 'channel_35', 'channel_36', 'channel_37', 'channel_38', 'channel_39', 'channel_4', 'channel_40', 'channel_41', 'channel_42', 'channel_43', 'channel_44', 'channel_45', 'channel_46', 'channel_47', 'channel_48', 'channel_49', 'channel_5', 'channel_50', 'channel_51', 'channel_52', 'channel_53', 'channel_54', 'channel_55', 'channel_56', 'channel_57', 'channel_58', 'channel_59', 'channel_6', 'channel_60', 'channel_61', 'channel_62', 'channel_63', 'channel_64', 'channel_65', 'channel_66', 'channel_67', 'channel_68', 'channel_69', 'channel_7', 'channel_70', 'channel_71', 'channel_72', 'channel_73', 'channel_74', 'channel_75', 'channel_76', 'channel_8', 'channel_9', 'telecommand_244', 'telecommand_350', 'telecommand_351', 'telecommand_352', 'telecommand_353', 'telecommand_354', 'telecommand_36', 'telecommand_376', 'telecommand_38', 'telecommand_39', 'telecommand_40', 'is_anomaly']\n"
     ]
    }
   ],
   "source": [
    "column_headers = df.columns.tolist()\n",
    "print(column_headers)\n"
   ]
  },
  {
   "cell_type": "code",
   "execution_count": 10,
   "metadata": {},
   "outputs": [
    {
     "name": "stdout",
     "output_type": "stream",
     "text": [
      "               Count  Percentage\n",
      "is_anomaly                      \n",
      "0           13184217       89.52\n",
      "1            1544104       10.48\n"
     ]
    }
   ],
   "source": [
    "anomaly_counts = df['is_anomaly'].value_counts(dropna=False)\n",
    "\n",
    "# Calculate percentages\n",
    "anomaly_percentages = df['is_anomaly'].value_counts(normalize=True, dropna=False) * 100\n",
    "\n",
    "anomaly_summary = pd.DataFrame({\n",
    "    'Count': anomaly_counts,\n",
    "    'Percentage': anomaly_percentages.round(2)\n",
    "})\n",
    "\n",
    "\n",
    "print(anomaly_summary)"
   ]
  }
 ],
 "metadata": {
  "kernelspec": {
   "display_name": "base",
   "language": "python",
   "name": "python3"
  },
  "language_info": {
   "codemirror_mode": {
    "name": "ipython",
    "version": 3
   },
   "file_extension": ".py",
   "mimetype": "text/x-python",
   "name": "python",
   "nbconvert_exporter": "python",
   "pygments_lexer": "ipython3",
   "version": "3.9.21"
  }
 },
 "nbformat": 4,
 "nbformat_minor": 2
}
